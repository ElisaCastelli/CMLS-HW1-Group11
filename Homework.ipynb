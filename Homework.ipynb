{
 "cells": [
  {
   "cell_type": "markdown",
   "metadata": {},
   "source": [
    "# Homework 1 - Assignment 4"
   ]
  },
  {
   "cell_type": "code",
   "execution_count": null,
   "metadata": {},
   "outputs": [],
   "source": [
    "import numpy as np\n",
    "import librosa\n",
    "import os\n",
    "import scipy as sp\n",
    "%matplotlib inline\n",
    "\n",
    "import matplotlib.pyplot as plt\n",
    "import IPython.display as ipd\n",
    "from sklearn.mixture import BayesianGaussianMixture\n",
    "import scipy.stats\n",
    "import seaborn as sns\n",
    "import csv\n",
    "import tqdm   #to monitor loops during computation"
   ]
  },
  {
   "cell_type": "code",
   "execution_count": null,
   "metadata": {},
   "outputs": [],
   "source": [
    "class Sound:\n",
    "    def __init__(self, path, slice_file_name, fold, classID, class_name, startTime, endTime):\n",
    "        self.slice_file_name = path +'/fold'+fold+'/'+slice_file_name\n",
    "        self.fold = fold\n",
    "        self.classID = classID\n",
    "        self.class_name = class_name\n",
    "        self.startTime = startTime\n",
    "        self.endTime = endTime"
   ]
  },
  {
   "cell_type": "code",
   "execution_count": null,
   "metadata": {},
   "outputs": [],
   "source": [
    "## read csv\n",
    "\n",
    "classes = ['air_conditioner',\n",
    "           'car_horn',\n",
    "           'children_playing',\n",
    "           'dog_bark',\n",
    "           'drilling',\n",
    "           'engine_idling',\n",
    "           'gun_shot',\n",
    "           'jackhammer',\n",
    "           'siren',\n",
    "           'street_music'\n",
    "          ]\n",
    "\n",
    "path = 'UrbanSound/UrbanSound8K.csv'\n",
    "soundList = []\n",
    "with open(path, newline='') as soundcsv:\n",
    "            reader = csv.DictReader(soundcsv)\n",
    "            for row in reader:\n",
    "                s = Sound('UrbanSound/audio', row['slice_file_name'], row['fold'], row['classID'], row['class'], row['start'], \n",
    "                          row['end'])\n",
    "                soundList.append(s)\n"
   ]
  },
  {
   "cell_type": "code",
   "execution_count": null,
   "metadata": {},
   "outputs": [],
   "source": [
    "def compute_mfcc(audio, fs, n_mfcc):\n",
    "    X = np.abs(librosa.stft(\n",
    "    audio,\n",
    "    window='hamming',\n",
    "    n_fft = 1024,\n",
    "    hop_length = 512,\n",
    "    ))\n",
    "    \n",
    "    mel = librosa.filters.mel(\n",
    "        sr = fs,\n",
    "        n_fft = 1024,\n",
    "        n_mels = 40,\n",
    "        fmin = 133.33, #standard value\n",
    "        fmax = 6853.8\n",
    "    )\n",
    "    \n",
    "    melspectrogram = np.dot(mel, X) \n",
    "    log_melspectrogram = np.log10(melspectrogram + 1e-16) \n",
    "    \n",
    "    mfcc = sp.fftpack.dct(log_melspectrogram, axis=0, norm='ortho')[1:n_mfcc + 1]\n",
    "    \n",
    "    return mfcc"
   ]
  },
  {
   "cell_type": "code",
   "execution_count": null,
   "metadata": {},
   "outputs": [],
   "source": [
    "def extract_train_feature(folder_excluded, sound_class):\n",
    "    sound_train_files = [s for s in soundList if s.class_name == sound_class and s.fold!=folder_excluded]\n",
    "    n_train_samples = len(sound_train_files)\n",
    "    print(\"n_train_samples\", n_train_samples)\n",
    "    train_features = np.zeros((n_train_samples, n_mfcc))\n",
    "    \n",
    "    for index, f in enumerate(sound_train_files):\n",
    "        audio, fs = librosa.load(sound_train_files[index].slice_file_name, sr=None)\n",
    "        mfcc = compute_mfcc(audio,fs, n_mfcc)\n",
    "        train_features[index, :] = np.mean(mfcc, axis=1)\n",
    "    return train_features\n",
    "    "
   ]
  },
  {
   "cell_type": "code",
   "execution_count": null,
   "metadata": {},
   "outputs": [],
   "source": [
    "## compute training\n",
    "\n",
    "n_mfcc = 13\n",
    "\n",
    "train_features_matrix= {'air_conditioner': [], 'car_horn':[], 'children_playing': [], 'dog_bark': [],\n",
    "           'drilling': [], 'engine_idling': [], 'gun_shot': [], 'jackhammer': [], 'siren': [], 'street_music': []}\n",
    "\n",
    "## fold cross validation\n",
    "for i in np.arange(1,len(classes)):\n",
    "    for c in classes:\n",
    "        train_features_matrix[c].append(extract_train_feature(i,c))\n"
   ]
  },
  {
   "cell_type": "code",
   "execution_count": null,
   "metadata": {},
   "outputs": [],
   "source": [
    "def extract_test_feature(folder_selected, sound_class):\n",
    "    sound_test_files = [s for s in soundList if s.class_name == sound_class and s.fold==folder_selected] \n",
    "    n_test_samples = len(sound_test_files)\n",
    "    test_features = np.zeros((n_test_samples, n_mfcc))\n",
    "    \n",
    "    for index, f in enumerate(sound_test_files):\n",
    "        audio, fs = librosa.load(sound_test_files[index].slice_file_name, sr=None)\n",
    "        mfcc = compute_mfcc(audio,fs, n_mfcc)\n",
    "        test_features[index, :] = np.mean(mfcc, axis=1)\n",
    "    return test_features"
   ]
  },
  {
   "cell_type": "code",
   "execution_count": null,
   "metadata": {},
   "outputs": [],
   "source": [
    "## compute test\n",
    "\n",
    "test_features_matrix= {'air_conditioner': [], 'car_horn':[], 'children_playing': [], 'dog_bark': [],\n",
    "           'drilling': [], 'engine_idling': [], 'gun_shot': [], 'jackhammer': [], 'siren': [], 'street_music': []}\n",
    "\n",
    "for i in np.arange(1,len(classes)):\n",
    "    for c in classes:\n",
    "        test_features_matrix[c].append(extract_test_feature(i,c))\n",
    "        "
   ]
  },
  {
   "cell_type": "code",
   "execution_count": null,
   "metadata": {},
   "outputs": [],
   "source": [
    "## visualization\n",
    "\n",
    "for c in classes:\n",
    "    mfcc = train_features_matrix[c][0].transpose()\n",
    "    # Visualization\n",
    "    fig = plt.figure(figsize=(16, 6))\n",
    "    plt.subplot(1,2,1)\n",
    "    plt.imshow(mfcc, origin='lower', aspect='auto')\n",
    "    plt.xlabel('Training samples')\n",
    "    plt.ylabel('MFCC coefficients')\n",
    "    plt.title('MFCC (coefficients 0 to 13) for class {}'.format(c))\n",
    "    plt.colorbar()\n",
    "    plt.tight_layout()\n",
    "\n",
    "    mfcc_upper = mfcc[4:]\n",
    "    plt.subplot(1,2,2)\n",
    "    plt.imshow(mfcc_upper, origin='lower', aspect='auto')\n",
    "    plt.title('MFCC (coefficients 4 to 13) for class {}'.format(c))\n",
    "    plt.xlabel('Training samples')\n",
    "    plt.ylabel('MFCC coefficients')\n",
    "    plt.colorbar()\n",
    "    plt.tight_layout()"
   ]
  },
  {
   "cell_type": "code",
   "execution_count": null,
   "metadata": {},
   "outputs": [],
   "source": []
  }
 ],
 "metadata": {
  "kernelspec": {
   "display_name": "Python 3",
   "language": "python",
   "name": "python3"
  },
  "language_info": {
   "codemirror_mode": {
    "name": "ipython",
    "version": 3
   },
   "file_extension": ".py",
   "mimetype": "text/x-python",
   "name": "python",
   "nbconvert_exporter": "python",
   "pygments_lexer": "ipython3",
   "version": "3.8.5"
  }
 },
 "nbformat": 4,
 "nbformat_minor": 2
}
